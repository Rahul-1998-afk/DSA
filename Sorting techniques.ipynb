{
 "cells": [
  {
   "cell_type": "code",
   "execution_count": 33,
   "id": "56fb39f1-065e-4ef2-8fd9-21e524caaa2b",
   "metadata": {},
   "outputs": [],
   "source": [
    "arr = [13,46,24,52,20,9]"
   ]
  },
  {
   "cell_type": "markdown",
   "id": "44a4f420-3f11-4cfe-ae00-604331d28dbe",
   "metadata": {},
   "source": [
    "# SELECTION SORT"
   ]
  },
  {
   "cell_type": "code",
   "execution_count": 20,
   "id": "47299cf5-b333-472a-b13a-5b7d73a49eb0",
   "metadata": {},
   "outputs": [],
   "source": [
    "def SelectionSort(nums, n):\n",
    "    if n == 0:\n",
    "        return \n",
    "    for i in range(n):\n",
    "        mini = i\n",
    "        for j in range(i+1, n):\n",
    "            if nums[j] < nums[mini]:\n",
    "                mini = j\n",
    "        nums[mini], nums[i] = nums[i], nums[mini]\n",
    "    return nums\n",
    "\n",
    "# Time Complexity = O(n^2)\n",
    "# Space Complexity = O(1)\n",
    "                 "
   ]
  },
  {
   "cell_type": "code",
   "execution_count": 21,
   "id": "6c33cb6e-03b2-44ed-82c6-939d3e659612",
   "metadata": {},
   "outputs": [
    {
     "data": {
      "text/plain": [
       "[9, 13, 20, 24, 46, 52]"
      ]
     },
     "execution_count": 21,
     "metadata": {},
     "output_type": "execute_result"
    }
   ],
   "source": [
    "n = len(arr)\n",
    "sortedArray = SelectionSort(arr, n)\n",
    "sortedArray"
   ]
  },
  {
   "cell_type": "markdown",
   "id": "77b0d3ea-4fae-4e75-aa15-f888ffadf5a2",
   "metadata": {},
   "source": [
    "# BUBBLE SORT"
   ]
  },
  {
   "cell_type": "code",
   "execution_count": 48,
   "id": "3b76f1dc-045f-47a5-a788-e3cc1e832f35",
   "metadata": {},
   "outputs": [],
   "source": [
    "def BubbleSort(nums, n):\n",
    "    if n == 0:\n",
    "        return\n",
    "    didSwap = 0\n",
    "    for i in range(n, -1, -1):\n",
    "        for j in range(0, i-1):\n",
    "            if nums[j] > nums[j+1]:\n",
    "                nums[j], nums[j+1] = nums[j+1], nums[j]\n",
    "                didSwap = 1\n",
    "        if not didSwap:\n",
    "            break\n",
    "                \n",
    "    return nums\n",
    "\n",
    "# Time Complexity = O(n^2)\n",
    "# Space Complexity = O(1)"
   ]
  },
  {
   "cell_type": "code",
   "execution_count": 49,
   "id": "735a2b47-a510-4c1b-b65b-ec671aa94630",
   "metadata": {},
   "outputs": [
    {
     "data": {
      "text/plain": [
       "[9, 13, 20, 24, 46, 52]"
      ]
     },
     "execution_count": 49,
     "metadata": {},
     "output_type": "execute_result"
    }
   ],
   "source": [
    "nums = [3, 9, 20, 24, 46, 52]\n",
    "n = len(arr)\n",
    "sortedArray = BubbleSort(arr, n)\n",
    "sortedArray"
   ]
  },
  {
   "cell_type": "markdown",
   "id": "f79425ed-fc5e-4637-8231-0a5551cd11c1",
   "metadata": {},
   "source": [
    "# Merge Sort"
   ]
  },
  {
   "cell_type": "code",
   "execution_count": 11,
   "id": "ca3f64a6-57a0-4f45-b8c1-88f5faffe3c3",
   "metadata": {},
   "outputs": [
    {
     "data": {
      "text/plain": [
       "[-4, 2, 9, 13, 20, 24, 46, 52]"
      ]
     },
     "execution_count": 11,
     "metadata": {},
     "output_type": "execute_result"
    }
   ],
   "source": [
    "# MergeSort\n",
    "def MergeSort(nums):\n",
    "    if len(nums) > 1:\n",
    "        mid = len(nums) // 2\n",
    "        left_half = nums[:mid]\n",
    "        right_half = nums[mid:]\n",
    "\n",
    "        MergeSort(left_half) # Splittin the Array\n",
    "        MergeSort(right_half)\n",
    "\n",
    "        i=j=k=0\n",
    "        while i < len(left_half) and j < len(right_half):\n",
    "            if left_half[i] < right_half[j]:\n",
    "                nums[k] = left_half[i]\n",
    "                i += 1\n",
    "            else:\n",
    "                nums[k] = right_half[j]\n",
    "                j += 1\n",
    "            k += 1\n",
    "\n",
    "        # Appending the remaining items in the left half\n",
    "        while i < len(left_half):\n",
    "            nums[k] = left_half[i]\n",
    "            i += 1\n",
    "            k += 1\n",
    "        while j < len(right_half):\n",
    "            nums[k] = right_half[j]\n",
    "            j += 1\n",
    "            k += 1\n",
    "        return nums\n",
    "        \n",
    "\n",
    "arr = [13,46,24,52,20,9, 2, -4]\n",
    "new_array = MergeSort(arr)\n",
    "new_array\n",
    "\n",
    "# Time Complexity = O(nlogn)\n",
    "# Space Complexity = O(1)"
   ]
  },
  {
   "cell_type": "code",
   "execution_count": null,
   "id": "0772c846-1647-485d-9fa2-2f2aed3c477d",
   "metadata": {},
   "outputs": [],
   "source": []
  },
  {
   "cell_type": "code",
   "execution_count": null,
   "id": "826c15a7-e8a1-4ac8-af45-23d5d1550c6a",
   "metadata": {},
   "outputs": [],
   "source": []
  }
 ],
 "metadata": {
  "kernelspec": {
   "display_name": "Python 3 (ipykernel)",
   "language": "python",
   "name": "python3"
  },
  "language_info": {
   "codemirror_mode": {
    "name": "ipython",
    "version": 3
   },
   "file_extension": ".py",
   "mimetype": "text/x-python",
   "name": "python",
   "nbconvert_exporter": "python",
   "pygments_lexer": "ipython3",
   "version": "3.9.19"
  }
 },
 "nbformat": 4,
 "nbformat_minor": 5
}
